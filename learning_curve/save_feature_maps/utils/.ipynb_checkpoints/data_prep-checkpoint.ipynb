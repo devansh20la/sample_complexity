{
 "cells": [
  {
   "cell_type": "code",
   "execution_count": 1,
   "metadata": {},
   "outputs": [],
   "source": [
    "import xml.etree.ElementTree as ET\n",
    "from PIL import Image,ImageDraw\n",
    "from tqdm import tqdm \n",
    "import glob\n",
    "import os \n",
    "import shutil\n",
    "from tqdm import tqdm_notebook as tqdm\n",
    "import numpy as np"
   ]
  },
  {
   "cell_type": "code",
   "execution_count": null,
   "metadata": {},
   "outputs": [],
   "source": [
    "# # Create Data which has annotation as well as images for each synset the leftover is the data without \n",
    "# # annotations...\n",
    "SRC_VOC_DATA_PATH = '/Users/devansh20la/Desktop/VOCdevkit/VOC2012/JPEGImages/'\n",
    "SRC_VOC_TXT_FILES = '/Users/devansh20la/Desktop/VOCdevkit/VOC2012/ImageSets/Main/test.txt'\n",
    "\n",
    "DST_VOC_PATH = '/Users/devansh20la/Documents/Lab/LUPI/data/pascal/'\n",
    "    \n",
    "for txt_file_name in tqdm(glob.glob1(SRC_VOC_TXT_FILES,'*_train.txt')):\n",
    "    syn = txt_file_name.split('_train')[0]\n",
    "    dst_path = os.path.join(DST_VOC_PATH,'train',syn)\n",
    "    \n",
    "    if os.path.isdir(dst_path)==False:\n",
    "        os.makedirs(dst_path)\n",
    "    \n",
    "    txt_path = os.path.join(SRC_VOC_TXT_FILES,txt_file_name)\n",
    "    \n",
    "    file = open(txt_path,'r')\n",
    "\n",
    "    for line in file:\n",
    "        img_name = line.split(' ')[0] + '.jpg'\n",
    "        ann_name = line.split(' ')[0] + '.xml'\n",
    "        \n",
    "        presence = line.split(' ')[1]\n",
    "        if presence == '':\n",
    "            presence = line.split(' ')[2]\n",
    "        presence = int(presence)\n",
    "        if presence != -1:\n",
    "            shutil.copy(os.path.join(SRC_VOC_DATA_PATH,img_name),os.path.join(dst_path,img_name))\n",
    "            shutil.copy(os.path.join(SRC_VOC_ANN_PATH,ann_name),os.path.join(dst_path,ann_name))"
   ]
  },
  {
   "cell_type": "code",
   "execution_count": 3,
   "metadata": {},
   "outputs": [
    {
     "data": {
      "application/vnd.jupyter.widget-view+json": {
       "model_id": "e60fd5d534c64e92883ba10e5d38b9a6",
       "version_major": 2,
       "version_minor": 0
      },
      "text/html": [
       "<p>Failed to display Jupyter Widget of type <code>HBox</code>.</p>\n",
       "<p>\n",
       "  If you're reading this message in the Jupyter Notebook or JupyterLab Notebook, it may mean\n",
       "  that the widgets JavaScript is still loading. If this message persists, it\n",
       "  likely means that the widgets JavaScript library is either not installed or\n",
       "  not enabled. See the <a href=\"https://ipywidgets.readthedocs.io/en/stable/user_install.html\">Jupyter\n",
       "  Widgets Documentation</a> for setup instructions.\n",
       "</p>\n",
       "<p>\n",
       "  If you're reading this message in another frontend (for example, a static\n",
       "  rendering on GitHub or <a href=\"https://nbviewer.jupyter.org/\">NBViewer</a>),\n",
       "  it may mean that your frontend doesn't currently support widgets.\n",
       "</p>\n"
      ],
      "text/plain": [
       "HBox(children=(IntProgress(value=0, max=20), HTML(value='')))"
      ]
     },
     "metadata": {},
     "output_type": "display_data"
    },
    {
     "name": "stdout",
     "output_type": "stream",
     "text": [
      "\n"
     ]
    }
   ],
   "source": [
    "# # Create Data which has annotation as well as images for each synset the leftover is the data without \n",
    "# # annotations...\n",
    "SRC_VOC_DATA_PATH = '/Users/devansh20la/Documents/Lab/TrainVal/VOCdevkit/VOC2011/JPEGImages/'\n",
    "SRC_VOC_TXT_FILES = '/Users/devansh20la/Desktop/VOCdevkit/VOC2012/ImageSets/Main/test.txt'\n",
    "SRC_VOC_ANN_PATH = '/Users/devansh20la/Documents/Lab/TrainVal/VOCdevkit/VOC2011/Annotations/'\n",
    "\n",
    "DST_VOC_PATH = '/Users/devansh20la/Documents/Lab/LUPI/data/pascal/'\n",
    "    \n",
    "for txt_file_name in tqdm(glob.glob1(SRC_VOC_TXT_FILES,'*_train.txt')):\n",
    "    syn = txt_file_name.split('_train')[0]\n",
    "    dst_path = os.path.join(DST_VOC_PATH,'train',syn)\n",
    "    \n",
    "    if os.path.isdir(dst_path)==False:\n",
    "        os.makedirs(dst_path)\n",
    "    \n",
    "    txt_path = os.path.join(SRC_VOC_TXT_FILES,txt_file_name)\n",
    "    \n",
    "    file = open(txt_path,'r')\n",
    "\n",
    "    for line in file:\n",
    "        img_name = line.split(' ')[0] + '.jpg'\n",
    "        ann_name = line.split(' ')[0] + '.xml'\n",
    "        \n",
    "        presence = line.split(' ')[1]\n",
    "        if presence == '':\n",
    "            presence = line.split(' ')[2]\n",
    "        presence = int(presence)\n",
    "        if presence != -1:\n",
    "            shutil.copy(os.path.join(SRC_VOC_DATA_PATH,img_name),os.path.join(dst_path,img_name))\n",
    "            shutil.copy(os.path.join(SRC_VOC_ANN_PATH,ann_name),os.path.join(dst_path,ann_name))"
   ]
  },
  {
   "cell_type": "code",
   "execution_count": null,
   "metadata": {},
   "outputs": [],
   "source": []
  },
  {
   "cell_type": "code",
   "execution_count": null,
   "metadata": {},
   "outputs": [],
   "source": []
  },
  {
   "cell_type": "code",
   "execution_count": 9,
   "metadata": {},
   "outputs": [
    {
     "data": {
      "application/vnd.jupyter.widget-view+json": {
       "model_id": "1e44accd7d76404b90b08c2bf68d90e8",
       "version_major": 2,
       "version_minor": 0
      },
      "text/html": [
       "<p>Failed to display Jupyter Widget of type <code>HBox</code>.</p>\n",
       "<p>\n",
       "  If you're reading this message in the Jupyter Notebook or JupyterLab Notebook, it may mean\n",
       "  that the widgets JavaScript is still loading. If this message persists, it\n",
       "  likely means that the widgets JavaScript library is either not installed or\n",
       "  not enabled. See the <a href=\"https://ipywidgets.readthedocs.io/en/stable/user_install.html\">Jupyter\n",
       "  Widgets Documentation</a> for setup instructions.\n",
       "</p>\n",
       "<p>\n",
       "  If you're reading this message in another frontend (for example, a static\n",
       "  rendering on GitHub or <a href=\"https://nbviewer.jupyter.org/\">NBViewer</a>),\n",
       "  it may mean that your frontend doesn't currently support widgets.\n",
       "</p>\n"
      ],
      "text/plain": [
       "HBox(children=(IntProgress(value=0, max=21), HTML(value='')))"
      ]
     },
     "metadata": {},
     "output_type": "display_data"
    },
    {
     "name": "stdout",
     "output_type": "stream",
     "text": [
      "\n"
     ]
    }
   ],
   "source": [
    "# #Create bounding box images for each data in all_data....\n",
    "SRC_VOC_PATH = '/Users/devansh20la/Documents/Lab/LUPI/data/pascal/val/'\n",
    "SYNSETS = os.listdir(SRC_VOC_PATH)\n",
    "\n",
    "for syn in tqdm(SYNSETS):\n",
    "    path = os.path.join(SRC_VOC_PATH,syn)\n",
    "    files = glob.glob1(path,'*.xml')\n",
    "    \n",
    "    for xml_file_name in files:\n",
    "        img_file_name = xml_file_name.split('.')[0] + '.jpg'\n",
    "        \n",
    "        xmltree = ET.parse(os.path.join(path,xml_file_name))\n",
    "        objects = xmltree.findall('object')\n",
    "        rects = []\n",
    "        \n",
    "        for object_iter in objects:\n",
    "            name = object_iter.find(\"name\").text\n",
    "            if name == syn:\n",
    "                bndbox = object_iter.find(\"bndbox\")\n",
    "                xmax = bndbox.find(\"xmax\")\n",
    "                xmin = bndbox.find(\"xmin\")\n",
    "                ymax = bndbox.find(\"ymax\")\n",
    "                ymin = bndbox.find(\"ymin\")\n",
    "\n",
    "                rects.append([int(xmin.text), int(ymin.text), int(xmax.text), int(ymax.text)])\n",
    "        \n",
    "        img = Image.open(os.path.join(path,img_file_name))\n",
    "        img2 = Image.new('L', img.size, (0))\n",
    "        draw = ImageDraw.Draw(img2)\n",
    "        for r in rects:\n",
    "            draw.rectangle(r,fill=(255))\n",
    "\n",
    "        img2.save(os.path.join(path,img_file_name.split('.')[0]+'_ann.jpg'))"
   ]
  },
  {
   "cell_type": "code",
   "execution_count": 4,
   "metadata": {},
   "outputs": [
    {
     "data": {
      "application/vnd.jupyter.widget-view+json": {
       "model_id": "548515fc9b894d09b3f159e412435d09",
       "version_major": 2,
       "version_minor": 0
      },
      "text/html": [
       "<p>Failed to display Jupyter Widget of type <code>HBox</code>.</p>\n",
       "<p>\n",
       "  If you're reading this message in the Jupyter Notebook or JupyterLab Notebook, it may mean\n",
       "  that the widgets JavaScript is still loading. If this message persists, it\n",
       "  likely means that the widgets JavaScript library is either not installed or\n",
       "  not enabled. See the <a href=\"https://ipywidgets.readthedocs.io/en/stable/user_install.html\">Jupyter\n",
       "  Widgets Documentation</a> for setup instructions.\n",
       "</p>\n",
       "<p>\n",
       "  If you're reading this message in another frontend (for example, a static\n",
       "  rendering on GitHub or <a href=\"https://nbviewer.jupyter.org/\">NBViewer</a>),\n",
       "  it may mean that your frontend doesn't currently support widgets.\n",
       "</p>\n"
      ],
      "text/plain": [
       "HBox(children=(IntProgress(value=0, max=20), HTML(value='')))"
      ]
     },
     "metadata": {},
     "output_type": "display_data"
    },
    {
     "name": "stdout",
     "output_type": "stream",
     "text": [
      "\n"
     ]
    }
   ],
   "source": [
    "# Put val to train\n",
    "TRAIN_PATH = '/Users/devansh20la/Documents/Lab/LUPI/data/pascal/train/'\n",
    "SYNSETS = os.listdir(TRAIN_PATH)\n",
    "VAL_PATH = '/Users/devansh20la/Documents/Lab/LUPI/data/pascal/val/'\n",
    "\n",
    "for synset in tqdm(SYNSETS):\n",
    "    src_img_path = os.path.join(VAL_PATH,synset)\n",
    "    dst_img_path = os.path.join(TRAIN_PATH,synset)\n",
    "    \n",
    "    all_imgs = glob.glob1(src_img_path,'*.jpg')\n",
    "    src_imgs_found = []\n",
    "    \n",
    "    for i in all_imgs:\n",
    "        if 'ann' not in i:\n",
    "            src_imgs_found.append(i)\n",
    "\n",
    "    idx = np.random.choice(len(src_imgs_found), int(len(src_imgs_found)*0.80), replace=False)\n",
    "    for i in idx:\n",
    "        p1 = os.path.join(src_img_path,src_imgs_found[i])\n",
    "        p2 = os.path.join(dst_img_path,src_imgs_found[i])\n",
    "        shutil.move(p1,p2)\n",
    "        p1 = os.path.join(src_img_path,src_imgs_found[i].split('.')[0]+'.xml')\n",
    "        p2 = os.path.join(dst_img_path,src_imgs_found[i].split('.')[0] + '.xml')\n",
    "        shutil.move(p1,p2)"
   ]
  },
  {
   "cell_type": "code",
   "execution_count": 11,
   "metadata": {},
   "outputs": [
    {
     "data": {
      "application/vnd.jupyter.widget-view+json": {
       "model_id": "fb785c510dbb480bae5c61ffb4120611",
       "version_major": 2,
       "version_minor": 0
      },
      "text/html": [
       "<p>Failed to display Jupyter Widget of type <code>HBox</code>.</p>\n",
       "<p>\n",
       "  If you're reading this message in the Jupyter Notebook or JupyterLab Notebook, it may mean\n",
       "  that the widgets JavaScript is still loading. If this message persists, it\n",
       "  likely means that the widgets JavaScript library is either not installed or\n",
       "  not enabled. See the <a href=\"https://ipywidgets.readthedocs.io/en/stable/user_install.html\">Jupyter\n",
       "  Widgets Documentation</a> for setup instructions.\n",
       "</p>\n",
       "<p>\n",
       "  If you're reading this message in another frontend (for example, a static\n",
       "  rendering on GitHub or <a href=\"https://nbviewer.jupyter.org/\">NBViewer</a>),\n",
       "  it may mean that your frontend doesn't currently support widgets.\n",
       "</p>\n"
      ],
      "text/plain": [
       "HBox(children=(IntProgress(value=0, max=20), HTML(value='')))"
      ]
     },
     "metadata": {},
     "output_type": "display_data"
    },
    {
     "name": "stdout",
     "output_type": "stream",
     "text": [
      "\n"
     ]
    }
   ],
   "source": [
    "# Check to see if nothing is mixed...\n",
    "TRAIN_PATH = '/Users/devansh20la/Documents/Lab/LUPI/data/pascal/train/'\n",
    "SYNSETS = os.listdir(TRAIN_PATH)\n",
    "VAL_PATH = '/Users/devansh20la/Documents/Lab/LUPI/data/pascal/val/'\n",
    "\n",
    "for synset in tqdm(SYNSETS):\n",
    "    src_img_path = os.path.join(TRAIN_PATH,synset)\n",
    "    all_imgs = glob.glob1(src_img_path,'*.jpg')\n",
    "    src_imgs_found = []\n",
    "    \n",
    "    for i in all_imgs:\n",
    "        if 'ann' not in i:\n",
    "            src_imgs_found.append(i)\n",
    "    \n",
    "    dst_img_path = os.path.join(VAL_PATH,synset)   \n",
    "    all_imgs = glob.glob1(dst_img_path,'*.jpg')\n",
    "    dst_imgs_found = []\n",
    "    \n",
    "    for i in all_imgs:\n",
    "        if 'ann' not in i:\n",
    "            dst_imgs_found.append(i)\n",
    "#     print(len(src_imgs_found), len(dst_imgs_found))\n",
    "    for i in src_imgs_found:\n",
    "        if i in dst_imgs_found:\n",
    "            print('MAJOR ERROR')\n"
   ]
  },
  {
   "cell_type": "code",
   "execution_count": null,
   "metadata": {},
   "outputs": [],
   "source": []
  }
 ],
 "metadata": {
  "kernelspec": {
   "display_name": "Python 3",
   "language": "python",
   "name": "python3"
  },
  "language_info": {
   "codemirror_mode": {
    "name": "ipython",
    "version": 3
   },
   "file_extension": ".py",
   "mimetype": "text/x-python",
   "name": "python",
   "nbconvert_exporter": "python",
   "pygments_lexer": "ipython3",
   "version": "3.6.4"
  }
 },
 "nbformat": 4,
 "nbformat_minor": 2
}
